{
 "cells": [
  {
   "cell_type": "markdown",
   "metadata": {},
   "source": [
    "## Gene Dataset Creation\n",
    "### Date: October 17, 2024\n",
    "### Author: Selin Kaplanoglu\n",
    "\n",
    "**Goal:** To create a dataset of genes.\n",
    "\n",
    "**Information:** This dataset will include six values of information: ensembl id, symbol, aliases, name, other names, description. The format of this dataset should be a JSON dictionary."
   ]
  },
  {
   "cell_type": "code",
   "execution_count": 1,
   "metadata": {},
   "outputs": [],
   "source": [
    "import json\n",
    "import logging\n",
    "import requests\n",
    "import pandas as pd\n",
    "import time\n",
    "from urllib.parse import quote"
   ]
  },
  {
   "cell_type": "code",
   "execution_count": 2,
   "metadata": {},
   "outputs": [],
   "source": [
    "logging.basicConfig(filename='geneset_dict_log.log', level=logging.INFO, format='%(asctime)s - %(message)s')"
   ]
  },
  {
   "cell_type": "code",
   "execution_count": 12,
   "metadata": {},
   "outputs": [],
   "source": [
    "def get_gene_info(gene_file_path):\n",
    "    \"\"\"\n",
    "    Gets information on the genes by querying the gene symbol.\n",
    "\n",
    "    Parameters\n",
    "    ----------\n",
    "    gene_file_path: Path of your gene file\n",
    "\n",
    "    Returns\n",
    "    -------\n",
    "    responses: A list that contains all the responses after the query.\n",
    "    \"\"\"\n",
    "    gene_df = pd.read_csv(gene_file_path, sep=\"\\t\")\n",
    "    gene_symbol_list = list(gene_df['symbol'])\n",
    "    responses = []  \n",
    "    for gene_symbol in gene_symbol_list[-1]:\n",
    "        start_time = time.time()\n",
    "        \n",
    "        # Update URL to include the current gene symbol\n",
    "        requestURL = f\"http://mygene.info/v3/query?q={gene_symbol}&species=human&fields=all\"\n",
    "        \n",
    "        # Make the API request\n",
    "        r = requests.get(requestURL, headers={\"Accept\": \"application/json\"})   \n",
    "        if not r.ok:\n",
    "            r.raise_for_status()\n",
    "        \n",
    "        # Append the response to the list\n",
    "        response_json = r.json()\n",
    "        responses.append(response_json) \n",
    "        \n",
    "        # Log the time taken for each gene\n",
    "        end_time = time.time()\n",
    "        runtime = end_time - start_time\n",
    "        logging.info(f\"Time taken for term {gene_symbol}: {runtime:.2f} seconds\")\n",
    "    \n",
    "    return responses  # return the list of all responses\n"
   ]
  },
  {
   "cell_type": "code",
   "execution_count": 11,
   "metadata": {},
   "outputs": [],
   "source": [
    "def gene_dict(gene_file_path, out_path):\n",
    "    \"\"\"\n",
    "    Creates the JSON dictionary file of gene information.\n",
    "\n",
    "    Parameters\n",
    "    ----------\n",
    "    gene_file_path: Path of your gene file\n",
    "    out_path: Output file for the JSON dictionary\n",
    "\n",
    "    Returns\n",
    "    -------\n",
    "    out_path: Output file for the JSON dictionary\n",
    "    \"\"\"\n",
    "    responses = get_gene_info(gene_file_path)\n",
    "    gene_json = []\n",
    "    for element in responses:\n",
    "        if element[\"hits\"]:\n",
    "            #takes in the first 'hit' after the gene is queried (first result)\n",
    "            best_hit = element[\"hits\"][0]\n",
    "            #checks if the gene has an ensembl id, and whether it is a list or dictionary\n",
    "            if 'ensembl' in best_hit:\n",
    "                if isinstance(best_hit['ensembl'], list):\n",
    "                    gene_id = best_hit['ensembl'][0].get('gene', 'N/A')\n",
    "                elif isinstance(best_hit['ensembl'], dict):\n",
    "                    gene_id = best_hit['ensembl'].get('gene', 'N/A')\n",
    "                else:\n",
    "                    gene_id = 'N/A'\n",
    "            else:\n",
    "                gene_id = 'N/A'\n",
    "            #write the json file dictionary\n",
    "            gene_json.append({\n",
    "                'Symbol': best_hit[\"symbol\"],\n",
    "                'Gene_ID': gene_id,\n",
    "                'Name': best_hit[\"name\"],\n",
    "                'Aliases': best_hit.get('alias', 'N/A'),\n",
    "                'Other names': best_hit.get(\"other_names\", 'N/A'),\n",
    "                'Description': best_hit.get(\"summary\", 'N/A'),\n",
    "            })\n",
    "        else:\n",
    "            logging.warning(f\"No hits found for element: {element}\")\n",
    "    \n",
    "    with open(out_path, 'w') as json_file:\n",
    "        json.dump(gene_json, json_file, indent=4)\n",
    "    print(f'Successfully created JSON file at {out_path}')\n",
    "    return out_path\n"
   ]
  },
  {
   "cell_type": "code",
   "execution_count": 13,
   "metadata": {},
   "outputs": [
    {
     "name": "stderr",
     "output_type": "stream",
     "text": [
      "/tmp/ipykernel_3009112/926035086.py:2: DtypeWarning: Columns (32,34,38,40,50) have mixed types. Specify dtype option on import or set low_memory=False.\n",
      "  gene_df = pd.read_csv(gene_file_path, sep=\"\\t\")\n"
     ]
    },
    {
     "name": "stdout",
     "output_type": "stream",
     "text": [
      "Successfully created JSON file at /mnt/DGX01/Personal/slndir/.gene_files/geneset_dict.json\n",
      "Runtime logging complete.\n"
     ]
    }
   ],
   "source": [
    "gene_file_path = '/mnt/DGX01/Personal/slndir/.gene_files/hgnc_complete_set_2024-10-01.txt'\n",
    "out_path = '/mnt/DGX01/Personal/slndir/geneset_datasets/geneset_dict.json'\n",
    "\n",
    "logging.info(\"Paths are initialized, starting dictionary creation.\")\n",
    "total_start_time = time.time()\n",
    "\n",
    "gene_dict(gene_file_path, out_path)\n",
    "\n",
    "total_end_time = time.time()\n",
    "total_runtime = total_end_time - total_start_time\n",
    "logging.info(f\"Total execution time: {total_runtime:.2f} seconds\")\n",
    "print(\"Runtime logging complete.\")"
   ]
  },
  {
   "cell_type": "code",
   "execution_count": null,
   "metadata": {},
   "outputs": [],
   "source": []
  }
 ],
 "metadata": {
  "kernelspec": {
   "display_name": "deepeval",
   "language": "python",
   "name": "python3"
  },
  "language_info": {
   "codemirror_mode": {
    "name": "ipython",
    "version": 3
   },
   "file_extension": ".py",
   "mimetype": "text/x-python",
   "name": "python",
   "nbconvert_exporter": "python",
   "pygments_lexer": "ipython3",
   "version": "3.12.4"
  }
 },
 "nbformat": 4,
 "nbformat_minor": 2
}
