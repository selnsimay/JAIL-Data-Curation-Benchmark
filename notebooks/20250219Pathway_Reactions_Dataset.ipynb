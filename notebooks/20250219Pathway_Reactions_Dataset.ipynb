{
 "cells": [
  {
   "cell_type": "markdown",
   "metadata": {},
   "source": [
    "## Reactions Dataset\n",
    "### Date: February 19, 2025\n",
    "### Author: Selin Kaplanoglu\n",
    "\n",
    "**Goal:** We want to use Neo4j and query the Reactome Graph database to retrieve all reactions of pathways."
   ]
  },
  {
   "cell_type": "code",
   "execution_count": 3,
   "metadata": {},
   "outputs": [],
   "source": [
    "#imports\n",
    "from neo4j import GraphDatabase\n",
    "from itertools import combinations\n",
    "import random\n",
    "import logging\n",
    "import time\n",
    "import json\n",
    "import requests\n",
    "import os\n",
    "from dotenv import load_dotenv"
   ]
  },
  {
   "cell_type": "code",
   "execution_count": 4,
   "metadata": {},
   "outputs": [],
   "source": [
    "#seeting up neo4j connection and inititializing the driver\n",
    "load_dotenv()\n",
    "uri = os.getenv(\"URI\")  \n",
    "username = os.getenv(\"USERNAME\")          \n",
    "password = os.getenv(\"PASSWORD\")  \n",
    "\n",
    "driver = GraphDatabase.driver(uri, auth=(username, password))\n"
   ]
  },
  {
   "cell_type": "code",
   "execution_count": 3,
   "metadata": {},
   "outputs": [
    {
     "name": "stdout",
     "output_type": "stream",
     "text": [
      "Data successfully written to pathway_reactions_output.json\n"
     ]
    }
   ],
   "source": [
    "pathway_query = \"\"\"\n",
    "MATCH (p:Pathway)\n",
    "OPTIONAL MATCH (p)-[:hasEvent*]->(r:ReactionLikeEvent)\n",
    "OPTIONAL MATCH (p)-[:summation]->(s)\n",
    "RETURN p.displayName AS pathway_name, collect(DISTINCT r.displayName) AS reactions, s.text AS summary\n",
    "\"\"\"\n",
    "\n",
    "reaction_query = \"\"\"\n",
    "MATCH (r:ReactionLikeEvent {stId: $reaction_id})\n",
    "OPTIONAL MATCH (r)-[:input]->(input:PhysicalEntity)\n",
    "OPTIONAL MATCH (r)-[:output]->(output:PhysicalEntity)\n",
    "OPTIONAL MATCH (r)-[:catalystActivity]->(catalyst:CatalystActivity)\n",
    "OPTIONAL MATCH (r)-[:regulatedBy|regulator]->(regulator:Regulation)\n",
    "RETURN \n",
    "    r.displayName AS reaction_name, \n",
    "    collect(DISTINCT input.displayName) AS inputs, \n",
    "    collect(DISTINCT output.displayName) AS outputs, \n",
    "    collect(DISTINCT catalyst.displayName) AS catalysts,\n",
    "    collect(DISTINCT regulator.displayName) AS regulators\n",
    "\"\"\"\n",
    "\n",
    "participant_query = \"\"\"\n",
    "MATCH (p:Complex {stId: $participant_id})\n",
    "OPTIONAL MATCH (p)-[:hasComponent|hasMember|hasCandidate*]->(component:PhysicalEntity)\n",
    "RETURN p.displayName AS complex_name, collect(DISTINCT component.displayName) AS components\n",
    "\"\"\"\n",
    "\n",
    "combined_results = []\n",
    "\n",
    "with driver.session() as session:\n",
    "    pathway_result = session.run(pathway_query)\n",
    "\n",
    "    for record in pathway_result:\n",
    "        pathway_name = record[\"pathway_name\"]\n",
    "        reactions = record[\"reactions\"]\n",
    "        summary = record[\"summary\"] if record[\"summary\"] else \"\"\n",
    "\n",
    "        pathway_data = {\n",
    "            \"pathway_name\": pathway_name,\n",
    "            \"summary\": summary.replace('\\u00a0', ' '),\n",
    "            \"reactions\": []\n",
    "        }\n",
    "\n",
    "        for reaction_name in reactions:\n",
    "            reaction_result = session.run(reaction_query, {\"reaction_id\": reaction_name})\n",
    "\n",
    "            reaction_data = {\n",
    "                \"reaction_name\": reaction_name,\n",
    "                \"inputs\": [],\n",
    "                \"outputs\": [],\n",
    "                \"catalysts\": [],\n",
    "                \"regulators\": []\n",
    "            }\n",
    "\n",
    "            for rec in reaction_result:\n",
    "                reaction_data[\"inputs\"].extend(rec[\"inputs\"])\n",
    "                reaction_data[\"outputs\"].extend(rec[\"outputs\"])\n",
    "                reaction_data[\"catalysts\"].extend(rec[\"catalysts\"])\n",
    "                reaction_data[\"regulators\"].extend(rec[\"regulators\"])\n",
    "\n",
    "            pathway_data[\"reactions\"].append(reaction_data)\n",
    "\n",
    "        combined_results.append(pathway_data)\n",
    "\n",
    "driver.close()\n",
    "\n",
    "with open('pathway_reactions_output.json', 'w') as outfile:\n",
    "    json.dump(combined_results, outfile, indent=4)\n",
    "\n",
    "print(\"Data successfully written to pathway_reactions_output.json\")\n"
   ]
  }
 ],
 "metadata": {
  "kernelspec": {
   "display_name": "deepeval",
   "language": "python",
   "name": "python3"
  },
  "language_info": {
   "codemirror_mode": {
    "name": "ipython",
    "version": 3
   },
   "file_extension": ".py",
   "mimetype": "text/x-python",
   "name": "python",
   "nbconvert_exporter": "python",
   "pygments_lexer": "ipython3",
   "version": "3.12.2"
  }
 },
 "nbformat": 4,
 "nbformat_minor": 2
}
