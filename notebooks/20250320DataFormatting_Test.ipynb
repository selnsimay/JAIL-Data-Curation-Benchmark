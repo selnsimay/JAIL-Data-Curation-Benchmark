{
 "cells": [
  {
   "cell_type": "code",
   "execution_count": 1,
   "metadata": {},
   "outputs": [
    {
     "name": "stderr",
     "output_type": "stream",
     "text": [
      "/mnt/DGX01/Personal/slndir/evaluation/lib/python3.12/site-packages/transformers/utils/hub.py:127: FutureWarning: Using `TRANSFORMERS_CACHE` is deprecated and will be removed in v5 of Transformers. Use `HF_HOME` instead.\n",
      "  warnings.warn(\n"
     ]
    }
   ],
   "source": [
    "import sys\n",
    "import os\n",
    "import transformers\n",
    "from transformers import pipeline\n",
    "import json\n",
    "import torch\n",
    "import numpy as np\n",
    "from torch.utils.data import DataLoader , Dataset"
   ]
  },
  {
   "cell_type": "code",
   "execution_count": 2,
   "metadata": {},
   "outputs": [],
   "source": [
    "sys.path.append(\"../\")"
   ]
  },
  {
   "cell_type": "code",
   "execution_count": 3,
   "metadata": {},
   "outputs": [],
   "source": [
    "#loading in the JSON list of dictionaries\n",
    "data = json.load(open(\"../data/geneset_dict.json\"))"
   ]
  },
  {
   "cell_type": "code",
   "execution_count": 4,
   "metadata": {},
   "outputs": [
    {
     "name": "stdout",
     "output_type": "stream",
     "text": [
      "Number of items in geneset_dict: 43829\n"
     ]
    }
   ],
   "source": [
    "print(f\"Number of items in geneset_dict: {len(data)}\")"
   ]
  },
  {
   "cell_type": "code",
   "execution_count": 5,
   "metadata": {},
   "outputs": [
    {
     "data": {
      "application/vnd.jupyter.widget-view+json": {
       "model_id": "aad6c63d94cf4650b18d5d0b2e277bb5",
       "version_major": 2,
       "version_minor": 0
      },
      "text/plain": [
       "Downloading shards:   0%|          | 0/30 [00:00<?, ?it/s]"
      ]
     },
     "metadata": {},
     "output_type": "display_data"
    },
    {
     "data": {
      "application/vnd.jupyter.widget-view+json": {
       "model_id": "e52f3c453d3a4efcb65a3471436af39d",
       "version_major": 2,
       "version_minor": 0
      },
      "text/plain": [
       "Loading checkpoint shards:   0%|          | 0/30 [00:00<?, ?it/s]"
      ]
     },
     "metadata": {},
     "output_type": "display_data"
    }
   ],
   "source": [
    "#load in llama model\n",
    "model_id = \"meta-llama/Llama-3.1-70B-Instruct\"\n",
    "\n",
    "pipe = pipeline(\n",
    "    \"text-generation\",\n",
    "    model=model_id,\n",
    "    torch_dtype=torch.bfloat16,\n",
    "    device_map=\"auto\",\n",
    ")"
   ]
  },
  {
   "cell_type": "code",
   "execution_count": 6,
   "metadata": {},
   "outputs": [],
   "source": [
    "query = \"\"\"\n",
    "Format this data into several question and answer pairs. Use the information from the keys to make multiple questions, \n",
    "and the information from the values to make the answer. Prioritize gene id first, then gene name, then aliases, then other names, and finally description.\n",
    "Format multiple questions to resemble a user query. Make sure you use every key for its own separate question, \n",
    "and number the questions. Keep the description as it is. In this case 'aliases' mean synonym symbols for the gene, while 'other names' mean other names for the gene.\n",
    "Adress every key, but ignore any objects with ['N/A'] as their value. \n",
    "Provide the pair in this format: <question>question here</question><answer>answer here</answer>\n",
    "\n",
    "\"\"\""
   ]
  },
  {
   "cell_type": "code",
   "execution_count": 7,
   "metadata": {},
   "outputs": [],
   "source": [
    "#function to generate QA pairs from the model\n",
    "def generate_qa_pairs(sample):\n",
    "    messages = [\n",
    "        {\"role\": \"system\", \"content\": query},\n",
    "        {\"role\": \"user\", \"content\": str(sample)},\n",
    "    ]\n",
    "    outputs = pipe(\n",
    "        messages,\n",
    "        max_new_tokens=256,\n",
    "    )\n",
    "    return outputs[0][\"generated_text\"][-1]"
   ]
  },
  {
   "cell_type": "code",
   "execution_count": 8,
   "metadata": {},
   "outputs": [
    {
     "name": "stderr",
     "output_type": "stream",
     "text": [
      "Setting `pad_token_id` to `eos_token_id`:128001 for open-end generation.\n",
      "Setting `pad_token_id` to `eos_token_id`:128001 for open-end generation.\n",
      "Setting `pad_token_id` to `eos_token_id`:128001 for open-end generation.\n",
      "Setting `pad_token_id` to `eos_token_id`:128001 for open-end generation.\n",
      "Setting `pad_token_id` to `eos_token_id`:128001 for open-end generation.\n",
      "Setting `pad_token_id` to `eos_token_id`:128001 for open-end generation.\n",
      "Setting `pad_token_id` to `eos_token_id`:128001 for open-end generation.\n",
      "Setting `pad_token_id` to `eos_token_id`:128001 for open-end generation.\n",
      "Setting `pad_token_id` to `eos_token_id`:128001 for open-end generation.\n",
      "Setting `pad_token_id` to `eos_token_id`:128001 for open-end generation.\n",
      "Setting `pad_token_id` to `eos_token_id`:128001 for open-end generation.\n",
      "Setting `pad_token_id` to `eos_token_id`:128001 for open-end generation.\n"
     ]
    }
   ],
   "source": [
    "#to work GPUs parralel\n",
    "os.environ[\"CUDA_VISIBLE_DEVICES\"] = \"0,1,2,3\"\n",
    "# Convert each item into a string prompt with the base instructions\n",
    "prompts = [\n",
    "    f\"{base_prompt}\\n{json.dumps(item, indent=2)}\"\n",
    "    for item in filtered_data[:12]  #adjust number as needed\n",
    "]"
   ]
  },
  {
   "cell_type": "code",
   "execution_count": 9,
   "metadata": {},
   "outputs": [
    {
     "name": "stdout",
     "output_type": "stream",
     "text": [
      "[[{'generated_text': \"{'Symbol': 'A1BG', 'Gene_ID': 'ENSG00000121410', 'Name': 'alpha-1-B glycoprotein', 'Aliases': ['A1B', 'ABG', 'GAB', 'HYST2477'], 'Other names': ['HEL-S-163pA', 'alpha-1B-glycoprotein', 'epididymis secretory sperm binding protein Li 163pA'], 'Description': 'The protein encoded by this gene is a plasma glycoprotein of unknown function. The protein shows sequence similarity to the variable regions of some immunoglobulin supergene family member proteins. [provided by RefSeq, Jul 2008].'}\"}], [{'generated_text': \"{'Symbol': 'A1BG-AS1', 'Gene_ID': 'ENSG00000268895', 'Name': 'A1BG antisense RNA 1', 'Aliases': ['A1BG-AS', 'A1BGAS', 'NCRNA00181'], 'Other names': ['A1BG antisense RNA (non-protein coding)', 'A1BG antisense RNA 1 (non-protein coding)'], 'Description': 'N/A'} {'Symbol': 'A1BG', 'Gene_ID': 'ENSG00000121410', 'Name': 'Alpha-1-B glycoprotein', 'Aliases': ['A1B', 'HYST1037'], 'Other names': 'Alpha-1-B glycoprotein precursor', 'Description': 'The protein encoded by this gene is a plasma glycoprotein of unknown function. The protein shows sequence similarity to the variable regions of some immunoglobulin superfamily members, but lacks a hydrophobic leader sequence.'} {'Symbol': 'A2M', 'Gene_ID': 'ENSG00000175899', 'Name': 'Alpha-2-macroglobulin', 'Aliases': ['A2M', 'CPAMD5', 'FWP007', 'S863-7'], 'Other names': 'Alpha-2-macroglobulin precursor', 'Description': 'Alpha-2-macroglobulin is a protease inhibitor and cytokine transporter produced in the liver. It is a large plasma proteinase inhibitor that is involved in the regulation of the activity of a large array of proteases, including plasmin, kallikrein, and trypsin. It also binds to cytokines, including interle\"}], [{'generated_text': \"{'Symbol': 'A1CF', 'Gene_ID': 'ENSG00000148584', 'Name': 'APOBEC1 complementation factor', 'Aliases': ['ACF', 'ACF64', 'ACF65', 'APOBEC1CF', 'ASP'], 'Other names': ['APOBEC-1 stimulating protein', 'APOBEC1 complementation factor', 'apo-B RNA editing protein', 'apobec-1 complementation factor (ACF) (ASP)'], 'Description': 'Mammalian apolipoprotein B mRNA undergoes site-specific C to U deamination, which is mediated by a multi-component enzyme complex containing a minimal core composed of APOBEC-1 and a complementation factor encoded by this gene. The gene product has three non-identical RNA recognition motifs and belongs to the hnRNP R family of RNA-binding proteins. It has been proposed that this complementation factor functions as an RNA-binding subunit and docks APOBEC-1 to deaminate the upstream cytidine. Studies suggest that the protein may also be involved in other RNA editing or RNA processing events. Several transcript variants encoding a few different isoforms have been found for this gene. [provided by RefSeq, Nov 2010].'}; {'Symbol': 'A1CF', 'Gene_ID': 'ENSG00000148584', 'Name': 'APOBEC1 complementation factor', 'Aliases': ['ACF', 'ACF64', 'ACF65', 'APOBEC1CF', 'ASP'], 'Other names': ['APOBEC-1 stimulating protein', 'APOBEC1 complementation factor', 'apo-B RNA editing protein', 'apobec-1 complementation factor (ACF) (ASP)'], 'Description': 'Mammalian apolipoprotein B mRNA undergoes site-specific C to U deamination, which is mediated by a multi-component enzyme complex containing a minimal core composed of APOBEC-1 and a complementation factor encoded by this gene. The gene product has three non-identical RNA recognition motifs and belongs to the hnRNP R family of RNA-binding proteins. It has been proposed that this complementation factor functions as an RNA-binding subunit and docks APOBEC-1 to deaminate the upstream cytidine. Studies suggest that the protein may also be involved in other RNA editing or RNA processing events. Several transcript variants encoding a few different isoforms have been found for this gene. [provided by\"}], [{'generated_text': '{\\'Symbol\\': \\'A2M\\', \\'Gene_ID\\': \\'ENSG00000175899\\', \\'Name\\': \\'alpha-2-macroglobulin\\', \\'Aliases\\': [\\'A2MD\\', \\'CPAMD5\\', \\'FWP007\\', \\'S863-7\\'], \\'Other names\\': [\\'C3 and PZP-like alpha-2-macroglobulin domain-containing protein 5\\', \\'alpha-2-M\\', \\'alpha-2-macroglobulin\\'], \\'Description\\': \"The protein encoded by this gene is a protease inhibitor and cytokine transporter. It uses a bait-and-trap mechanism to inhibit a broad spectrum of proteases, including trypsin, thrombin and collagenase. It can also inhibit inflammatory cytokines, and it thus disrupts inflammatory cascades. Mutations in this gene are a cause of alpha-2-macroglobulin deficiency. This gene is implicated in Alzheimer\\'s disease (AD) due to its ability to mediate the clearance and degradation of A-beta, the major component of beta-amyloid deposits. A related pseudogene, which is also located on the p arm of chromosome 12, has been identified. [provided by RefSeq, Nov 2016].\"} {\\'Symbol\\': \\'A2M\\', \\'Gene_ID\\': \\'ENSG00000175899\\', \\'Name\\': \\'alpha-2-macroglobulin\\', \\'Aliases\\': [\\'A2MD\\', \\'CPAMD5\\', \\'FWP007\\', \\'S863-7\\'], \\'Other names\\': [\\'C3 and PZP-like alpha-2-macroglobulin domain-containing protein 5\\', \\'alpha-2-M\\', \\'alpha-2-macroglobulin\\'], \\'Description\\': \"The protein encoded by this gene is a protease inhibitor and cytokine transporter. It uses a bait-and-trap mechanism to inhibit a broad spectrum of proteases, including trypsin, thrombin and collagenase. It can also inhibit inflammatory cytokines, and it thus disrupts inflammatory cascades. Mutations in this gene are a cause of alpha-2-macroglobulin deficiency. This gene is implicated in Alzheimer\\'s disease (AD) due to its ability to mediate the clearance and degradation of A-beta, the major component of beta-amyloid deposits. A related pseudogene, which is also located on the p arm of chromosome 12, has been identified. [provided by RefSeq, Nov 2016].\"} {\\'Symbol\\':'}], [{'generated_text': \"{'Symbol': 'A2M-AS1', 'Gene_ID': 'ENSG00000245105', 'Name': 'A2M antisense RNA 1', 'Aliases': 'N/A', 'Other names': ['A2M antisense RNA 1 (head to head)', 'A2M antisense RNA 1 (non-protein coding)'], 'Description': 'N/A'} {'Symbol': 'A2M', 'Gene_ID': 'ENSG00000175899', 'Name': 'alpha-2-macroglobulin', 'Aliases': 'CPAMD5, FWP007, S863-7', 'Other names': ['alpha-2-macroglobulin precursor', 'alpha-2-macroglobulin', 'alpha-2-M'], 'Description': 'N/A'} {'Symbol': 'A2ML1', 'Gene_ID': 'ENSG00000198561', 'Name': 'alpha-2-macroglobulin like 1', 'Aliases': 'PZP, A2ML1-AS1', 'Other names': ['pregnancy zone protein precursor', 'alpha-2-macroglobulin-like protein', 'PZP'], 'Description': 'N/A'} {'Symbol': 'A2ML1-AS1', 'Gene_ID': 'ENSG00000285341', 'Name': 'A2ML1 antisense RNA 1', 'Aliases': 'N/A', 'Other names': ['A2ML1 antisense RNA 1 (head to head)', 'A2ML1 antisense RNA 1 (non-protein coding\"}], [{'generated_text': \"{'Symbol': 'A2ML1', 'Gene_ID': 'ENSG00000166535', 'Name': 'alpha-2-macroglobulin like 1', 'Aliases': ['CPAMD9', 'OMS', 'p170'], 'Other names': ['C3 and PZP-like, alpha-2-macroglobulin domain containing 9', 'alpha-2-macroglobulin-like protein 1'], 'Description': 'This gene encodes a member of the alpha-macroglobulin superfamily. The encoded protein is thought to be an N-glycosylated monomeric protein that acts as an inhibitor of several proteases. It has been shown to form covalent interactions with proteases, and has been reported as the p170 antigen recognized by autoantibodies in the autoimmune disease paraneoplastic pemphigus (PNP; PMID:20805888). Mutations in these gene have also been associated with some cases of Noonan syndrome (NS; PMID:24939586) as well as some cases of otitis media (PMID:26121085). Alternative splicing results in multiple transcript variants encoding different isoforms. [provided by RefSeq, Aug 2015].'}; {'Symbol': 'A2ML1', 'Gene_ID': 'ENSG00000166535', 'Name': 'alpha-2-macroglobulin like 1', 'Aliases': ['CPAMD9', 'OMS', 'p170'], 'Other names': ['C3 and PZP-like, alpha-2-macroglobulin domain containing 9', 'alpha-2-macroglobulin-like protein 1'], 'Description': 'This gene encodes a member of the alpha-macroglobulin superfamily. The encoded protein is thought to be an N-glycosylated monomeric protein that acts as an inhibitor of several proteases. It has been shown to form covalent interactions with proteases, and has been reported as the p170 antigen recognized by autoantibodies in the autoimmune disease paraneoplastic pemphigus (PNP; PMID:20805888). Mutations in these gene have also been associated with some cases of Noonan syndrome (NS; PMID:24939586) as well as some cases of otitis media (PMID:26121085). Alternative splicing results in multiple transcript variants encoding different isoforms. [provided by RefSeq, Aug\"}], [{'generated_text': \"{'Symbol': 'A2ML1-AS1', 'Gene_ID': 'ENSG00000256661', 'Name': 'A2ML1 antisense RNA 1', 'Aliases': 'N/A', 'Other names': 'N/A', 'Description': 'N/A'} {'Symbol': 'A2ML1', 'Gene_ID': 'ENSG00000185944', 'Name': 'A2M alpha-2-macroglobulin like 1', 'Aliases': 'CPAMD5, PZP', 'Other names': 'alpha-2-macroglobulin-like protein', 'Description': 'The protein encoded by this gene is a protease inhibitor and cytokine transporter. It uses a bait-and-trap mechanism to inhibit a broad spectrum of proteases, and it also has roles in the regulation of inflammation and the immune response. The encoded protein can form covalent bonds with target proteases, followed by a conformation change that traps the proteases. Variations in this gene have been associated with Alzheimer disease and age-related macular degeneration. There is a pseudogene of this gene on chromosome 6. Alternative splicing results in multiple transcript variants. [provided by RefSeq, Sep 2016]', 'Chromosome': '12', 'Start': '9071117', 'End': '9101151', 'Band': '12p13.31', 'Strand': '+', 'Type': 'protein-coding', 'Summary': 'This gene encodes a protease\"}], [{'generated_text': '{\\'Symbol\\': \\'A2ML1-AS2\\', \\'Gene_ID\\': \\'ENSG00000256904\\', \\'Name\\': \\'A2ML1 antisense RNA 2\\', \\'Aliases\\': \\'N/A\\', \\'Other names\\': \\'N/A\\', \\'Description\\': \\'N/A\\'} {\\'Symbol\\': \\'A2ML1\\', \\'Gene_ID\\': \\'ENSG00000157974\\', \\'Name\\': \\'A2M alpha-2-macroglobulin\\', \\'Aliases\\': \\'A2M, CPAMD5, FWP007, S863-7\\', \\'Other names\\': \\'alpha-2-macroglobulin\\', \\'Description\\': \\'The protein encoded by this gene is a protease inhibitor and cytokine transporter. It uses a \"bait region\" that contains a sequence of amino acids similar to the cleavage site of proteases, which are the target enzymes. Once the protease binds to the bait region, the inhibitor undergoes a conformational change that traps the enzyme. The enzyme is then internalized and degraded. This gene is found in a cluster of protease inhibitor genes on chromosome 12. Mutations in this gene have been associated with Alzheimer\\\\\\'s disease and other amyloidosis. Alternative splicing results in multiple transcript variants encoding different isoforms.\\'} {\\'Symbol\\': \\'A2M-AS1\\', \\'Gene_ID\\': \\'ENSG00000256752\\', \\'Name\\': \\'A2M antisense RNA 1\\', \\'Aliases\\': \\'N/A\\', \\'Other names\\': \\'N/A'}], [{'generated_text': \"{'Symbol': 'A2MP1', 'Gene_ID': 'ENSG00000291190', 'Name': 'alpha-2-macroglobulin pseudogene 1', 'Aliases': 'A2MP', 'Other names': 'pregnancy-zone protein pseudogene', 'Description': 'N/A'}\"}], [{'generated_text': \"{'Symbol': 'A3GALT2', 'Gene_ID': 'ENSG00000184389', 'Name': 'alpha 1,3-galactosyltransferase 2', 'Aliases': ['A3GALT2P', 'IGB3S', 'IGBS3S'], 'Other names': ['alpha 1,3-galactosyltransferase 2, pseudogene', 'alpha-1,3-galactosyltransferase 2', 'iGb3 synthase', 'isoglobotriaosylceramide synthase'], 'Description': 'Predicted to enable N-acetyllactosaminide 3-alpha-galactosyltransferase activity and alpha-1,3-galactosyltransferase activity. Predicted to be involved in lipid glycosylation. Predicted to act upstream of or within glycosphingolipid biosynthetic process. Predicted to be located in Golgi cisterna membrane. Predicted to be integral component of membrane. Predicted to be active in Golgi apparatus and vesicle. [provided by Alliance of Genome Resources, Apr 2022]'}\"}], [{'generated_text': \"{'Symbol': 'A4GALT', 'Gene_ID': 'ENSG00000128274', 'Name': 'alpha 1,4-galactosyltransferase (P1PK blood group)', 'Aliases': ['A14GALT', 'A4GALT1', 'Gb3S', 'P(k)', 'P1', 'P1PK', 'PK'], 'Other names': ['CD77 synthase', 'GB3 synthase', 'P blood group (P one antigen)', 'P one antigen (P blood group)', 'P(k) antigen synthase', 'P1/Pk synthase', 'UDP-galactose:beta-D-galactosyl-beta1-R 4-alpha-D-galactosyltransferase', 'alpha 1,4-galactosyltransferase (P blood group)', 'alpha 14-galactosyltransferase', 'alpha-1,4-N-acetylglucosaminyltransferase', 'alpha-1,4-galactosyltransferase', 'alpha4Gal-T1', 'globotriaosylceramide synthase', 'lactosylceramide 4-alpha-galactosyltransferase'], 'Description': 'The protein encoded by this gene catalyzes the transfer of galactose to lactosylceramide to form globotriaosylceramide, which has been identified as the P(k) antigen of the P blood group system. This protein, a type II membrane protein found in the Golgi, is also required for the synthesis of the bacterial verotoxins receptor. Alternatively spliced transcript variants have been found for this gene. [provided by RefSeq, Dec 2015].'}\"}], [{'generated_text': \"{'Symbol': 'A4GNT', 'Gene_ID': 'ENSG00000118017', 'Name': 'alpha-1,4-N-acetylglucosaminyltransferase', 'Aliases': 'alpha4GnT', 'Other names': 'alpha-1,4-N-acetylglucosaminyltransferase', 'Description': 'This gene encodes a protein from the glycosyltransferase 32 family. The enzyme catalyzes the transfer of N-acetylglucosamine (GlcNAc) to core 2 branched O-glycans. It forms a unique glycan, GlcNAcalpha1-->4Galbeta-->R and is largely associated with the Golgi apparatus membrane. [provided by RefSeq, Jul 2008].'} {'Symbol': 'A4GNT', 'Gene_ID': 'ENSG00000118017', 'Name': 'alpha-1,4-N-acetylglucosaminyltransferase', 'Aliases': 'alpha4GnT', 'Other names': 'alpha-1,4-N-acetylglucosaminyltransferase', 'Description': 'This gene encodes a protein from the glycosyltransferase 32 family. The enzyme catalyzes the transfer of N-acetylglucosamine (GlcNAc) to core 2 branched O-glycans. It forms a unique glycan, GlcNAcalpha1-->4Galbeta-->R and is largely associated with the Golgi apparatus membrane. [provided by RefSeq, Jul 2008].'} {'Symbol': 'A4GNT', 'Gene_ID': 'ENSG00000118017', 'Name': 'alpha-1,4-N-acetylglucosaminyltransferase', 'Aliases': 'alpha4GnT', 'Other names': 'alpha-1,4-N-acetylglucosaminyltransferase', 'Description': 'This gene encodes a protein from the glycosyltransfer\"}]]\n"
     ]
    }
   ],
   "source": [
    "print(outputs)"
   ]
  },
  {
   "cell_type": "code",
   "execution_count": 11,
   "metadata": {},
   "outputs": [
    {
     "name": "stdout",
     "output_type": "stream",
     "text": [
      "JSON file saved successfully\n"
     ]
    }
   ],
   "source": [
    "# remove the <question> and <answer> tags from the generated text: copied from chatgpt\n",
    "final_qa_pairs = []\n",
    "for result in outputs:\n",
    "    # Access the 'generated_text' field, which is a string, from the result\n",
    "    qa_text = result.get('generated_text', '')\n",
    "    \n",
    "    # Split the result by <question> and <answer> tags, extract them\n",
    "    questions_answers = qa_text.split('<question>')\n",
    "    pair = {}\n",
    "    for q_a in questions_answers[1:]:\n",
    "        question_end = q_a.find('</question>')\n",
    "        answer_end = q_a.find('</answer>')\n",
    "        question = q_a[:question_end].strip()\n",
    "        answer = q_a[question_end + len('</question>'):answer_end].strip()\n",
    "        pair[question] = answer\n",
    "    final_qa_pairs.append(pair)\n",
    "\n",
    "with open('qa_pairs.json', 'w') as json_file:\n",
    "    json.dump(final_qa_pairs, json_file, indent=4)\n",
    "# print out all the results\n",
    "print(\"JSON file saved successfully\")"
   ]
  },
  {
   "cell_type": "code",
   "execution_count": 2,
   "metadata": {},
   "outputs": [
    {
     "data": {
      "application/vnd.jupyter.widget-view+json": {
       "model_id": "f91f4f355b4e4ff594616d842126702b",
       "version_major": 2,
       "version_minor": 0
      },
      "text/plain": [
       "Downloading shards:   0%|          | 0/30 [00:00<?, ?it/s]"
      ]
     },
     "metadata": {},
     "output_type": "display_data"
    },
    {
     "data": {
      "application/vnd.jupyter.widget-view+json": {
       "model_id": "067749d30d7a484eba74c8c9a0a8d75c",
       "version_major": 2,
       "version_minor": 0
      },
      "text/plain": [
       "Loading checkpoint shards:   0%|          | 0/30 [00:00<?, ?it/s]"
      ]
     },
     "metadata": {},
     "output_type": "display_data"
    },
    {
     "name": "stderr",
     "output_type": "stream",
     "text": [
      "Setting `pad_token_id` to `eos_token_id`:128001 for open-end generation.\n",
      "Setting `pad_token_id` to `eos_token_id`:128001 for open-end generation.\n",
      "Setting `pad_token_id` to `eos_token_id`:128001 for open-end generation.\n",
      "Setting `pad_token_id` to `eos_token_id`:128001 for open-end generation.\n",
      "Setting `pad_token_id` to `eos_token_id`:128001 for open-end generation.\n",
      "Setting `pad_token_id` to `eos_token_id`:128001 for open-end generation.\n",
      "Setting `pad_token_id` to `eos_token_id`:128001 for open-end generation.\n",
      "Setting `pad_token_id` to `eos_token_id`:128001 for open-end generation.\n",
      "Setting `pad_token_id` to `eos_token_id`:128001 for open-end generation.\n",
      "Setting `pad_token_id` to `eos_token_id`:128001 for open-end generation.\n",
      "Setting `pad_token_id` to `eos_token_id`:128001 for open-end generation.\n",
      "Setting `pad_token_id` to `eos_token_id`:128001 for open-end generation.\n"
     ]
    },
    {
     "ename": "AttributeError",
     "evalue": "'list' object has no attribute 'get'",
     "output_type": "error",
     "traceback": [
      "\u001b[0;31m---------------------------------------------------------------------------\u001b[0m",
      "\u001b[0;31mAttributeError\u001b[0m                            Traceback (most recent call last)",
      "Cell \u001b[0;32mIn[2], line 51\u001b[0m\n\u001b[1;32m     49\u001b[0m final_qa_pairs \u001b[38;5;241m=\u001b[39m []\n\u001b[1;32m     50\u001b[0m \u001b[38;5;28;01mfor\u001b[39;00m result \u001b[38;5;129;01min\u001b[39;00m outputs:\n\u001b[0;32m---> 51\u001b[0m     qa_text \u001b[38;5;241m=\u001b[39m result\u001b[38;5;241m.\u001b[39mget(\u001b[38;5;124m'\u001b[39m\u001b[38;5;124mgenerated_text\u001b[39m\u001b[38;5;124m'\u001b[39m, \u001b[38;5;124m'\u001b[39m\u001b[38;5;124m'\u001b[39m)\n\u001b[1;32m     52\u001b[0m     questions_answers \u001b[38;5;241m=\u001b[39m qa_text\u001b[38;5;241m.\u001b[39msplit(\u001b[38;5;124m'\u001b[39m\u001b[38;5;124m<question>\u001b[39m\u001b[38;5;124m'\u001b[39m)\n\u001b[1;32m     53\u001b[0m     pair \u001b[38;5;241m=\u001b[39m {}\n",
      "\u001b[0;31mAttributeError\u001b[0m: 'list' object has no attribute 'get'"
     ]
    }
   ],
   "source": [
    "\n",
    "\n",
    "# Setup: Add parent directory to path\n",
    "sys.path.append(\"../\")\n",
    "\n",
    "# Environment for multi-GPU\n",
    "os.environ[\"CUDA_VISIBLE_DEVICES\"] = \"0,1,2,3\"\n",
    "\n",
    "# Load dataset: list of dicts\n",
    "data = json.load(open(\"../data/geneset_dict.json\"))\n",
    "\n",
    "# Load model pipeline\n",
    "model_id = \"meta-llama/Llama-3.1-70B-Instruct\"\n",
    "pipe = pipeline(\n",
    "    \"text-generation\",\n",
    "    model=model_id,\n",
    "    torch_dtype=torch.bfloat16,\n",
    "    device_map=\"auto\",\n",
    ")\n",
    "\n",
    "# Instruction prompt for LLM\n",
    "base_prompt = \"\"\"\n",
    "Format this data into several question and answer pairs. Use the information from the keys to make multiple questions, \n",
    "and the information from the values to make the answer. Prioritize gene id first, then gene name, then aliases, then other names, and finally description.\n",
    "Format multiple questions to resemble a user query. Make sure you use every key for its own separate question, \n",
    "and number the questions. Keep the description as it is. In this case 'aliases' mean synonym symbols for the gene, while 'other names' mean other names for the gene.\n",
    "Address every key, but ignore any objects with ['N/A'] as their value. \n",
    "Provide the pair in this format: <question>question here</question><answer>answer here</answer>\n",
    "\"\"\"\n",
    "\n",
    "# Only use items that don’t have 'N/A' as Description\n",
    "filtered_data = [item for item in data if item.get(\"Description\") != \"N/A\"]\n",
    "\n",
    "\n",
    "\n",
    "# Generate outputs in batch\n",
    "outputs = pipe(prompts, max_new_tokens=256)\n",
    "\n"
   ]
  },
  {
   "cell_type": "code",
   "execution_count": 3,
   "metadata": {},
   "outputs": [
    {
     "name": "stdout",
     "output_type": "stream",
     "text": [
      "JSON file saved successfully\n"
     ]
    }
   ],
   "source": [
    "final_qa_pairs = []\n",
    "for result in outputs:\n",
    "    for res in result:\n",
    "        qa_text = res.get('generated_text', '')\n",
    "        questions_answers = qa_text.split('<question>')\n",
    "        pair = {}\n",
    "        for q_a in questions_answers[1:]:\n",
    "            question_end = q_a.find('</question>')\n",
    "            answer_end = q_a.find('</answer>')\n",
    "            if question_end != -1 and answer_end != -1:\n",
    "                question = q_a[:question_end].strip()\n",
    "                answer = q_a[question_end + len('</question>'):answer_end].strip()\n",
    "                pair[question] = answer\n",
    "        final_qa_pairs.append(pair)\n",
    "\n",
    "# Save result\n",
    "with open('qa_pairs.json', 'w') as json_file:\n",
    "    json.dump(final_qa_pairs, json_file, indent=4)\n",
    "\n",
    "print(\"JSON file saved successfully\")"
   ]
  }
 ],
 "metadata": {
  "kernelspec": {
   "display_name": "evaluation",
   "language": "python",
   "name": "python3"
  },
  "language_info": {
   "codemirror_mode": {
    "name": "ipython",
    "version": 3
   },
   "file_extension": ".py",
   "mimetype": "text/x-python",
   "name": "python",
   "nbconvert_exporter": "python",
   "pygments_lexer": "ipython3",
   "version": "3.12.2"
  }
 },
 "nbformat": 4,
 "nbformat_minor": 2
}
