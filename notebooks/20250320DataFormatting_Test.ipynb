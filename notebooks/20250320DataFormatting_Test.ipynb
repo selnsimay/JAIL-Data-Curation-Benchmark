{
 "cells": [
  {
   "cell_type": "code",
   "execution_count": 24,
   "metadata": {},
   "outputs": [],
   "source": [
    "import sys\n",
    "import os\n",
    "import transformers\n",
    "from transformers import pipeline\n",
    "import json\n",
    "import torch\n",
    "import numpy as np\n",
    "from torch.utils.data import DataLoader , Dataset"
   ]
  },
  {
   "cell_type": "code",
   "execution_count": 25,
   "metadata": {},
   "outputs": [],
   "source": [
    "sys.path.append(\"../\")"
   ]
  },
  {
   "cell_type": "code",
   "execution_count": 26,
   "metadata": {},
   "outputs": [],
   "source": [
    "#loading in the JSON list of dictionaries\n",
    "data = json.load(open(\"../data/geneset_dict.json\"))"
   ]
  },
  {
   "cell_type": "code",
   "execution_count": 35,
   "metadata": {},
   "outputs": [
    {
     "name": "stdout",
     "output_type": "stream",
     "text": [
      "Number of items in geneset_dict: 43829\n"
     ]
    }
   ],
   "source": [
    "print(f\"Number of items in geneset_dict: {len(data)}\")"
   ]
  },
  {
   "cell_type": "code",
   "execution_count": 30,
   "metadata": {},
   "outputs": [
    {
     "data": {
      "application/vnd.jupyter.widget-view+json": {
       "model_id": "74fcec016ea94ed1a96ca8a95c6782aa",
       "version_major": 2,
       "version_minor": 0
      },
      "text/plain": [
       "Downloading shards:   0%|          | 0/30 [00:00<?, ?it/s]"
      ]
     },
     "metadata": {},
     "output_type": "display_data"
    },
    {
     "data": {
      "application/vnd.jupyter.widget-view+json": {
       "model_id": "d3fe30a6e2c34204ae55db038b42f1e8",
       "version_major": 2,
       "version_minor": 0
      },
      "text/plain": [
       "Loading checkpoint shards:   0%|          | 0/30 [00:00<?, ?it/s]"
      ]
     },
     "metadata": {},
     "output_type": "display_data"
    }
   ],
   "source": [
    "#load in llama model\n",
    "model_id = \"meta-llama/Llama-3.1-70B-Instruct\"\n",
    "\n",
    "pipe = pipeline(\n",
    "    \"text-generation\",\n",
    "    model=model_id,\n",
    "    torch_dtype=torch.bfloat16,\n",
    "    device_map=\"auto\",\n",
    ")"
   ]
  },
  {
   "cell_type": "code",
   "execution_count": 31,
   "metadata": {},
   "outputs": [],
   "source": [
    "query = \"\"\"\n",
    "Format this data into several question and answer pairs. Use the information from the keys to make multiple questions, \n",
    "and the information from the values to make the answer. Prioritize gene id first, then gene name, then aliases, then other names, and finally description.\n",
    "Format multiple questions to resemble a user query. Make sure you use every key for its own separate question, \n",
    "and number the questions. Keep the description as it is. In this case 'aliases' mean synonym symbols for the gene, while 'other names' mean other names for the gene.\n",
    "Adress every key, but ignore any objects with ['N/A'] as their value. \n",
    "Provide the pair in this format: <question>question here</question><answer>answer here</answer>\n",
    "\n",
    "\"\"\""
   ]
  },
  {
   "cell_type": "code",
   "execution_count": 32,
   "metadata": {},
   "outputs": [],
   "source": [
    "#function to generate QA pairs from the model\n",
    "def generate_qa_pairs(sample):\n",
    "    messages = [\n",
    "        {\"role\": \"system\", \"content\": query},\n",
    "        {\"role\": \"user\", \"content\": str(sample)},\n",
    "    ]\n",
    "    outputs = pipe(\n",
    "        messages,\n",
    "        max_new_tokens=256,\n",
    "    )\n",
    "    return outputs[0][\"generated_text\"][-1]"
   ]
  },
  {
   "cell_type": "code",
   "execution_count": 36,
   "metadata": {},
   "outputs": [
    {
     "name": "stderr",
     "output_type": "stream",
     "text": [
      "Setting `pad_token_id` to `eos_token_id`:128001 for open-end generation.\n",
      "Setting `pad_token_id` to `eos_token_id`:128001 for open-end generation.\n",
      "Setting `pad_token_id` to `eos_token_id`:128001 for open-end generation.\n",
      "Setting `pad_token_id` to `eos_token_id`:128001 for open-end generation.\n",
      "Setting `pad_token_id` to `eos_token_id`:128001 for open-end generation.\n",
      "Setting `pad_token_id` to `eos_token_id`:128001 for open-end generation.\n",
      "Setting `pad_token_id` to `eos_token_id`:128001 for open-end generation.\n",
      "Setting `pad_token_id` to `eos_token_id`:128001 for open-end generation.\n",
      "Setting `pad_token_id` to `eos_token_id`:128001 for open-end generation.\n",
      "Setting `pad_token_id` to `eos_token_id`:128001 for open-end generation.\n",
      "Setting `pad_token_id` to `eos_token_id`:128001 for open-end generation.\n",
      "Setting `pad_token_id` to `eos_token_id`:128001 for open-end generation.\n"
     ]
    }
   ],
   "source": [
    "#to work GPUs parralel\n",
    "batch_data = [str(item) for item in data[:12]]\n",
    "outputs = pipe(batch_data, max_new_tokens=256)"
   ]
  },
  {
   "cell_type": "code",
   "execution_count": 40,
   "metadata": {},
   "outputs": [
    {
     "name": "stdout",
     "output_type": "stream",
     "text": [
      "[[{'generated_text': \"{'Symbol': 'A1BG', 'Gene_ID': 'ENSG00000121410', 'Name': 'alpha-1-B glycoprotein', 'Aliases': ['A1B', 'ABG', 'GAB', 'HYST2477'], 'Other names': ['HEL-S-163pA', 'alpha-1B-glycoprotein', 'epididymis secretory sperm binding protein Li 163pA'], 'Description': 'The protein encoded by this gene is a plasma glycoprotein of unknown function. The protein shows sequence similarity to the variable regions of some immunoglobulin supergene family member proteins. [provided by RefSeq, Jul 2008].'} {'Symbol': 'A1BG', 'Gene_ID': 'ENSG00000121410', 'Name': 'alpha-1-B glycoprotein', 'Aliases': ['A1B', 'ABG', 'GAB', 'HYST2477'], 'Other names': ['HEL-S-163pA', 'alpha-1B-glycoprotein', 'epididymis secretory sperm binding protein Li 163pA'], 'Description': 'The protein encoded by this gene is a plasma glycoprotein of unknown function. The protein shows sequence similarity to the variable regions of some immunoglobulin supergene family member proteins. [provided by RefSeq, Jul 2008].'} {'Symbol': 'A1BG', 'Gene_ID': 'ENSG00000121410', 'Name': 'alpha-1-B glycoprotein', 'Aliases': ['A1B', 'ABG', 'GAB', 'HYST2477'], 'Other names': ['HEL-S-163pA', 'alpha-1B-glycoprotein', 'epididymis secretory sperm binding protein Li 163pA'], 'Description': 'The protein encoded by this gene is a plasma glycoprotein of unknown\"}], [{'generated_text': \"{'Symbol': 'A1BG-AS1', 'Gene_ID': 'ENSG00000268895', 'Name': 'A1BG antisense RNA 1', 'Aliases': ['A1BG-AS', 'A1BGAS', 'NCRNA00181'], 'Other names': ['A1BG antisense RNA (non-protein coding)', 'A1BG antisense RNA 1 (non-protein coding)'], 'Description': 'N/A'}\"}], [{'generated_text': \"{'Symbol': 'A1CF', 'Gene_ID': 'ENSG00000148584', 'Name': 'APOBEC1 complementation factor', 'Aliases': ['ACF', 'ACF64', 'ACF65', 'APOBEC1CF', 'ASP'], 'Other names': ['APOBEC-1 stimulating protein', 'APOBEC1 complementation factor', 'apo-B RNA editing protein', 'apobec-1 complementation factor (ACF) (ASP)'], 'Description': 'Mammalian apolipoprotein B mRNA undergoes site-specific C to U deamination, which is mediated by a multi-component enzyme complex containing a minimal core composed of APOBEC-1 and a complementation factor encoded by this gene. The gene product has three non-identical RNA recognition motifs and belongs to the hnRNP R family of RNA-binding proteins. It has been proposed that this complementation factor functions as an RNA-binding subunit and docks APOBEC-1 to deaminate the upstream cytidine. Studies suggest that the protein may also be involved in other RNA editing or RNA processing events. Several transcript variants encoding a few different isoforms have been found for this gene. [provided by RefSeq, Nov 2010].'} {'Symbol': 'ACF', 'Gene_ID': 'ENSG00000148584', 'Name': 'APOBEC1 complementation factor', 'Aliases': ['A1CF', 'ACF64', 'ACF65', 'APOBEC1CF', 'ASP'], 'Other names': ['APOBEC-1 stimulating protein', 'APOBEC1 complementation factor', 'apo-B RNA editing protein', 'apobec-1 complementation factor (ACF) (ASP)'], 'Description': 'Mammalian apolipoprotein B mRNA undergoes site-specific C to U deamination, which is mediated by a multi-component enzyme complex containing a minimal core composed of APOBEC-1 and a complementation factor encoded by this gene. The gene product has three non-identical RNA recognition motifs and belongs to the hnRNP R family of RNA-binding proteins. It has been proposed that this complementation factor functions as an RNA-binding subunit and docks APOBEC-1 to deaminate the upstream cytidine. Studies suggest that the protein may also be involved in other RNA editing or RNA processing events. Several transcript variants encoding a few different isoforms have been found for this gene. [provided by Ref\"}], [{'generated_text': '{\\'Symbol\\': \\'A2M\\', \\'Gene_ID\\': \\'ENSG00000175899\\', \\'Name\\': \\'alpha-2-macroglobulin\\', \\'Aliases\\': [\\'A2MD\\', \\'CPAMD5\\', \\'FWP007\\', \\'S863-7\\'], \\'Other names\\': [\\'C3 and PZP-like alpha-2-macroglobulin domain-containing protein 5\\', \\'alpha-2-M\\', \\'alpha-2-macroglobulin\\'], \\'Description\\': \"The protein encoded by this gene is a protease inhibitor and cytokine transporter. It uses a bait-and-trap mechanism to inhibit a broad spectrum of proteases, including trypsin, thrombin and collagenase. It can also inhibit inflammatory cytokines, and it thus disrupts inflammatory cascades. Mutations in this gene are a cause of alpha-2-macroglobulin deficiency. This gene is implicated in Alzheimer\\'s disease (AD) due to its ability to mediate the clearance and degradation of A-beta, the major component of beta-amyloid deposits. A related pseudogene, which is also located on the p arm of chromosome 12, has been identified. [provided by RefSeq, Nov 2016].\"}'}], [{'generated_text': \"{'Symbol': 'A2M-AS1', 'Gene_ID': 'ENSG00000245105', 'Name': 'A2M antisense RNA 1', 'Aliases': 'N/A', 'Other names': ['A2M antisense RNA 1 (head to head)', 'A2M antisense RNA 1 (non-protein coding)'], 'Description': 'N/A'} {'Symbol': 'A2M-AS1', 'Gene_ID': 'ENSG00000245105', 'Name': 'A2M antisense RNA 1', 'Aliases': 'N/A', 'Other names': ['A2M antisense RNA 1 (head to head)', 'A2M antisense RNA 1 (non-protein coding)'], 'Description': 'N/A'} {'Symbol': 'A2M-AS1', 'Gene_ID': 'ENSG00000245105', 'Name': 'A2M antisense RNA 1', 'Aliases': 'N/A', 'Other names': ['A2M antisense RNA 1 (head to head)', 'A2M antisense RNA 1 (non-protein coding)'], 'Description': 'N/A'} {'Symbol': 'A2M-AS1', 'Gene_ID': 'ENSG00000245105', 'Name': 'A2M antisense RNA 1', 'Aliases': 'N/A', 'Other names': ['A2M antisense RNA 1 (head to head)', 'A2M antisense RNA 1 (non-protein coding)'], 'Description': 'N/A'} {'Symbol': '\"}], [{'generated_text': \"{'Symbol': 'A2ML1', 'Gene_ID': 'ENSG00000166535', 'Name': 'alpha-2-macroglobulin like 1', 'Aliases': ['CPAMD9', 'OMS', 'p170'], 'Other names': ['C3 and PZP-like, alpha-2-macroglobulin domain containing 9', 'alpha-2-macroglobulin-like protein 1'], 'Description': 'This gene encodes a member of the alpha-macroglobulin superfamily. The encoded protein is thought to be an N-glycosylated monomeric protein that acts as an inhibitor of several proteases. It has been shown to form covalent interactions with proteases, and has been reported as the p170 antigen recognized by autoantibodies in the autoimmune disease paraneoplastic pemphigus (PNP; PMID:20805888). Mutations in these gene have also been associated with some cases of Noonan syndrome (NS; PMID:24939586) as well as some cases of otitis media (PMID:26121085). Alternative splicing results in multiple transcript variants encoding different isoforms. [provided by RefSeq, Aug 2015].'}; {'Symbol': 'ACAN', 'Gene_ID': 'ENSG00000157766', 'Name': 'aggrecan', 'Aliases': ['AGC1', 'CSPG1', 'MSK16', 'SLRR1C'], 'Other names': ['aggrecan core protein', 'cartilage-specific proteoglycan core protein (aggrecan)', 'chondroitin sulfate proteoglycan 1 (aggrecan)', 'chondroitin sulfate proteoglycan 1 (cartilage-specific proteoglycan core protein, aggrecan)', 'cartilage-specific proteoglycan core protein (aggrecan)', 'chondroitin sulfate proteoglycan 1 (cartilage-specific proteoglycan core protein, aggrecan)', 'cartilage-specific proteoglycan core protein (aggrecan)', 'chondroitin sulfate proteoglycan 1 (cartilage-specific proteoglycan core protein, aggrecan)', 'cartilage-specific proteoglycan core protein (aggrecan)', 'chondroitin sulfate proteoglycan 1 (cartilage-specific proteoglycan core protein, aggrecan)', 'cartilage-specific proteogly\"}], [{'generated_text': \"{'Symbol': 'A2ML1-AS1', 'Gene_ID': 'ENSG00000256661', 'Name': 'A2ML1 antisense RNA 1', 'Aliases': 'N/A', 'Other names': 'N/A', 'Description': 'N/A'}\"}], [{'generated_text': \"{'Symbol': 'A2ML1-AS2', 'Gene_ID': 'ENSG00000256904', 'Name': 'A2ML1 antisense RNA 2', 'Aliases': 'N/A', 'Other names': 'N/A', 'Description': 'N/A'} {'Symbol': 'A2ML1', 'Gene_ID': 'ENSG00000256527', 'Name': 'A2ML1 protein', 'Aliases': 'A2ML, A2ML1-AS1, A2ML1-AS2, LOC100506745, LOC440895', 'Other names': 'N/A', 'Description': 'The protein encoded by this gene is a protease inhibitor and a negative regulator of the membrane-type serine protease 17 (MT-SP17). The protein has tumor suppressor activity and is involved in the regulation of cell proliferation. The gene is located in a tumor suppressor gene region and the expression of this gene has been shown to be reduced in several types of cancer, including breast, lung, and liver cancer. The protein may also play a role in the regulation of the cell cycle and apoptosis.'} {'Symbol': 'AC007325.1', 'Gene_ID': 'ENSG00000256785', 'Name': 'AC007325.1', 'Aliases': 'N/A', 'Other names': 'N/A', 'Description': 'N/A'} {'Symbol': 'AC007325.1', 'Gene_ID': 'ENSG00000256785',\"}], [{'generated_text': \"{'Symbol': 'A2MP1', 'Gene_ID': 'ENSG00000291190', 'Name': 'alpha-2-macroglobulin pseudogene 1', 'Aliases': 'A2MP', 'Other names': 'pregnancy-zone protein pseudogene', 'Description': 'N/A'} {'Symbol': 'A2ML1', 'Gene_ID': '144568', 'Name': 'alpha-2-macroglobulin like 1', 'Aliases': 'A2ML', 'Other names': 'N/A', 'Description': 'N/A'} {'Symbol': 'A2MP1', 'Gene_ID': 'ENSG00000291190', 'Name': 'alpha-2-macroglobulin pseudogene 1', 'Aliases': 'A2MP', 'Other names': 'pregnancy-zone protein pseudogene', 'Description': 'N/A'} {'Symbol': 'A2ML1', 'Gene_ID': '144568', 'Name': 'alpha-2-macroglobulin like 1', 'Aliases': 'A2ML', 'Other names': 'N/A', 'Description': 'N/A'} {'Symbol': 'A2MP1', 'Gene_ID': 'ENSG00000291190', 'Name': 'alpha-2-macroglobulin pseudogene 1', 'Aliases': 'A2MP', 'Other names': 'pregnancy-zone protein pseudogene', 'Description': 'N/A'} {'Symbol': 'A2ML1', 'Gene_ID\"}], [{'generated_text': \"{'Symbol': 'A3GALT2', 'Gene_ID': 'ENSG00000184389', 'Name': 'alpha 1,3-galactosyltransferase 2', 'Aliases': ['A3GALT2P', 'IGB3S', 'IGBS3S'], 'Other names': ['alpha 1,3-galactosyltransferase 2, pseudogene', 'alpha-1,3-galactosyltransferase 2', 'iGb3 synthase', 'isoglobotriaosylceramide synthase'], 'Description': 'Predicted to enable N-acetyllactosaminide 3-alpha-galactosyltransferase activity and alpha-1,3-galactosyltransferase activity. Predicted to be involved in lipid glycosylation. Predicted to act upstream of or within glycosphingolipid biosynthetic process. Predicted to be located in Golgi cisterna membrane. Predicted to be integral component of membrane. Predicted to be active in Golgi apparatus and vesicle. [provided by Alliance of Genome Resources, Apr 2022]'}\"}], [{'generated_text': \"{'Symbol': 'A4GALT', 'Gene_ID': 'ENSG00000128274', 'Name': 'alpha 1,4-galactosyltransferase (P1PK blood group)', 'Aliases': ['A14GALT', 'A4GALT1', 'Gb3S', 'P(k)', 'P1', 'P1PK', 'PK'], 'Other names': ['CD77 synthase', 'GB3 synthase', 'P blood group (P one antigen)', 'P one antigen (P blood group)', 'P(k) antigen synthase', 'P1/Pk synthase', 'UDP-galactose:beta-D-galactosyl-beta1-R 4-alpha-D-galactosyltransferase', 'alpha 1,4-galactosyltransferase (P blood group)', 'alpha 14-galactosyltransferase', 'alpha-1,4-N-acetylglucosaminyltransferase', 'alpha-1,4-galactosyltransferase', 'alpha4Gal-T1', 'globotriaosylceramide synthase', 'lactosylceramide 4-alpha-galactosyltransferase'], 'Description': 'The protein encoded by this gene catalyzes the transfer of galactose to lactosylceramide to form globotriaosylceramide, which has been identified as the P(k) antigen of the P blood group system. This protein, a type II membrane protein found in the Golgi, is also required for the synthesis of the bacterial verotoxins receptor. Alternatively spliced transcript variants have been found for this gene. [provided by RefSeq, Dec 2015].'}\"}], [{'generated_text': \"{'Symbol': 'A4GNT', 'Gene_ID': 'ENSG00000118017', 'Name': 'alpha-1,4-N-acetylglucosaminyltransferase', 'Aliases': 'alpha4GnT', 'Other names': 'alpha-1,4-N-acetylglucosaminyltransferase', 'Description': 'This gene encodes a protein from the glycosyltransferase 32 family. The enzyme catalyzes the transfer of N-acetylglucosamine (GlcNAc) to core 2 branched O-glycans. It forms a unique glycan, GlcNAcalpha1-->4Galbeta-->R and is largely associated with the Golgi apparatus membrane. [provided by RefSeq, Jul 2008].'} {'Symbol': 'A4GNT', 'Gene_ID': 'ENSG00000118017', 'Name': 'alpha-1,4-N-acetylglucosaminyltransferase', 'Aliases': 'alpha4GnT', 'Other names': 'alpha-1,4-N-acetylglucosaminyltransferase', 'Description': 'This gene encodes a protein from the glycosyltransferase 32 family. The enzyme catalyzes the transfer of N-acetylglucosamine (GlcNAc) to core 2 branched O-glycans. It forms a unique glycan, GlcNAcalpha1-->4Galbeta-->R and is largely associated with the Golgi apparatus membrane. [provided by RefSeq, Jul 2008].'} {'Symbol': 'A4GNT', 'Gene_ID': 'ENSG00000118017', 'Name': 'alpha-1,4-N-acetylglucosaminyltransferase', 'Aliases': 'alpha4GnT', 'Other names': 'alpha-1,4-N-acetylglucosaminyltransferase', 'Description': 'This gene encodes a protein from the glycosyltransfer\"}]]\n"
     ]
    }
   ],
   "source": [
    "print(outputs)"
   ]
  },
  {
   "cell_type": "code",
   "execution_count": 39,
   "metadata": {},
   "outputs": [
    {
     "ename": "AttributeError",
     "evalue": "'list' object has no attribute 'get'",
     "output_type": "error",
     "traceback": [
      "\u001b[0;31m---------------------------------------------------------------------------\u001b[0m",
      "\u001b[0;31mAttributeError\u001b[0m                            Traceback (most recent call last)",
      "Cell \u001b[0;32mIn[39], line 5\u001b[0m\n\u001b[1;32m      2\u001b[0m final_qa_pairs \u001b[38;5;241m=\u001b[39m []\n\u001b[1;32m      3\u001b[0m \u001b[38;5;28;01mfor\u001b[39;00m result \u001b[38;5;129;01min\u001b[39;00m outputs:\n\u001b[1;32m      4\u001b[0m     \u001b[38;5;66;03m# Access the 'generated_text' field, which is a string, from the result\u001b[39;00m\n\u001b[0;32m----> 5\u001b[0m     qa_text \u001b[38;5;241m=\u001b[39m result\u001b[38;5;241m.\u001b[39mget(\u001b[38;5;124m'\u001b[39m\u001b[38;5;124mgenerated_text\u001b[39m\u001b[38;5;124m'\u001b[39m, \u001b[38;5;124m'\u001b[39m\u001b[38;5;124m'\u001b[39m)\n\u001b[1;32m      7\u001b[0m     \u001b[38;5;66;03m# Split the result by <question> and <answer> tags, extract them\u001b[39;00m\n\u001b[1;32m      8\u001b[0m     questions_answers \u001b[38;5;241m=\u001b[39m qa_text\u001b[38;5;241m.\u001b[39msplit(\u001b[38;5;124m'\u001b[39m\u001b[38;5;124m<question>\u001b[39m\u001b[38;5;124m'\u001b[39m)\n",
      "\u001b[0;31mAttributeError\u001b[0m: 'list' object has no attribute 'get'"
     ]
    }
   ],
   "source": [
    "# remove the <question> and <answer> tags from the generated text: copied from chatgpt\n",
    "final_qa_pairs = []\n",
    "for result in outputs:\n",
    "    # Access the 'generated_text' field, which is a string, from the result\n",
    "    qa_text = result.get('generated_text', '')\n",
    "    \n",
    "    # Split the result by <question> and <answer> tags, extract them\n",
    "    questions_answers = qa_text.split('<question>')\n",
    "    pair = {}\n",
    "    for q_a in questions_answers[1:]:\n",
    "        question_end = q_a.find('</question>')\n",
    "        answer_end = q_a.find('</answer>')\n",
    "        question = q_a[:question_end].strip()\n",
    "        answer = q_a[question_end + len('</question>'):answer_end].strip()\n",
    "        pair[question] = answer\n",
    "    final_qa_pairs.append(pair)\n",
    "\n",
    "with open('qa_pairs.json', 'w') as json_file:\n",
    "    json.dump(final_qa_pairs, json_file, indent=4)\n",
    "# print out all the results\n",
    "print(\"JSON file saved successfully\")"
   ]
  },
  {
   "cell_type": "code",
   "execution_count": null,
   "metadata": {},
   "outputs": [],
   "source": []
  }
 ],
 "metadata": {
  "kernelspec": {
   "display_name": "evaluation",
   "language": "python",
   "name": "python3"
  },
  "language_info": {
   "codemirror_mode": {
    "name": "ipython",
    "version": 3
   },
   "file_extension": ".py",
   "mimetype": "text/x-python",
   "name": "python",
   "nbconvert_exporter": "python",
   "pygments_lexer": "ipython3",
   "version": "3.12.2"
  }
 },
 "nbformat": 4,
 "nbformat_minor": 2
}
