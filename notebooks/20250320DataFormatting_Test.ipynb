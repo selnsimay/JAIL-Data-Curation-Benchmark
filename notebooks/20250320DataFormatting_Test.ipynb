{
 "cells": [
  {
   "cell_type": "code",
   "execution_count": 1,
   "metadata": {},
   "outputs": [
    {
     "name": "stderr",
     "output_type": "stream",
     "text": [
      "/mnt/DGX01/Personal/slndir/evaluation/lib/python3.12/site-packages/transformers/utils/hub.py:127: FutureWarning: Using `TRANSFORMERS_CACHE` is deprecated and will be removed in v5 of Transformers. Use `HF_HOME` instead.\n",
      "  warnings.warn(\n"
     ]
    }
   ],
   "source": [
    "import sys\n",
    "import os\n",
    "import transformers\n",
    "import json\n",
    "import torch\n",
    "import numpy as np\n",
    "from torch.utils.data import DataLoader , Dataset"
   ]
  },
  {
   "cell_type": "code",
   "execution_count": 2,
   "metadata": {},
   "outputs": [],
   "source": [
    "sys.path.append(\"../\")"
   ]
  },
  {
   "cell_type": "code",
   "execution_count": 3,
   "metadata": {},
   "outputs": [],
   "source": [
    "#loading in the JSON list of dictionaries\n",
    "data = json.load(open(\"../data/geneset_dict.json\"))"
   ]
  },
  {
   "cell_type": "code",
   "execution_count": 4,
   "metadata": {},
   "outputs": [
    {
     "name": "stdout",
     "output_type": "stream",
     "text": [
      "{'Symbol': 'A1BG', 'Gene_ID': 'ENSG00000121410', 'Name': 'alpha-1-B glycoprotein', 'Aliases': ['A1B', 'ABG', 'GAB', 'HYST2477'], 'Other names': ['HEL-S-163pA', 'alpha-1B-glycoprotein', 'epididymis secretory sperm binding protein Li 163pA'], 'Description': 'The protein encoded by this gene is a plasma glycoprotein of unknown function. The protein shows sequence similarity to the variable regions of some immunoglobulin supergene family member proteins. [provided by RefSeq, Jul 2008].'}\n"
     ]
    }
   ],
   "source": [
    "for item in data:\n",
    "    print(item)\n",
    "    break"
   ]
  },
  {
   "cell_type": "code",
   "execution_count": 5,
   "metadata": {},
   "outputs": [],
   "source": [
    "sampler = DataLoader(data, batch_size=1, shuffle=True)\n",
    "sample = next(iter(sampler))"
   ]
  },
  {
   "cell_type": "code",
   "execution_count": 6,
   "metadata": {},
   "outputs": [
    {
     "name": "stdout",
     "output_type": "stream",
     "text": [
      "{'Symbol': ['GPC1'], 'Gene_ID': ['ENSG00000063660'], 'Name': ['glypican 1'], 'Aliases': ['glypican'], 'Other names': [('epididymis secretory sperm binding protein',), ('glypican proteoglycan 1',), ('glypican-1',)], 'Description': ['Cell surface heparan sulfate proteoglycans are composed of a membrane-associated protein core substituted with a variable number of heparan sulfate chains. Members of the glypican-related integral membrane proteoglycan family (GRIPS) contain a core protein anchored to the cytoplasmic membrane via a glycosyl phosphatidylinositol linkage.  These proteins may play a role in the control of cell division and growth regulation. [provided by RefSeq, Jul 2008].']}\n"
     ]
    }
   ],
   "source": [
    "print(sample)"
   ]
  },
  {
   "cell_type": "code",
   "execution_count": 7,
   "metadata": {},
   "outputs": [],
   "source": [
    "query = \"\"\"\n",
    "Before proceeding with this task, please ask me any questions you need to provide the most helpful response possible. Consider aspects like context, specific requirements, format preferences, and any constraints I should be aware of.\n",
    "Format this data into several question and answer pairs. Use the information from the keys to make multiple questions, and the information from the values to make the answer. Format multiple questions to resemble a user query. Make sure you use every key for its own separate question, and number the questions. Adress every key, but ignore any objects with ['N/A'] as their value.\n",
    "Provide the pair in this format: <question>question here</question><answer>answer here</answer>\n",
    "\n",
    "\"\"\""
   ]
  },
  {
   "cell_type": "code",
   "execution_count": 8,
   "metadata": {},
   "outputs": [
    {
     "name": "stdout",
     "output_type": "stream",
     "text": [
      "\n",
      "Before proceeding with this task, please ask me any questions you need to provide the most helpful response possible. Consider aspects like context, specific requirements, format preferences, and any constraints I should be aware of.\n",
      "Format this data into several question and answer pairs. Use the information from the keys to make multiple questions, and the information from the values to make the answer. Format multiple questions to resemble a user query. Make sure you use every key for its own separate question, and number the questions. Adress every key, but ignore any objects with ['N/A'] as their value.\n",
      "Provide the pair in this format: <question>question here</question><answer>answer here</answer>\n",
      "\n",
      "{'Symbol': ['GPC1'], 'Gene_ID': ['ENSG00000063660'], 'Name': ['glypican 1'], 'Aliases': ['glypican'], 'Other names': [('epididymis secretory sperm binding protein',), ('glypican proteoglycan 1',), ('glypican-1',)], 'Description': ['Cell surface heparan sulfate proteoglycans are composed of a membrane-associated protein core substituted with a variable number of heparan sulfate chains. Members of the glypican-related integral membrane proteoglycan family (GRIPS) contain a core protein anchored to the cytoplasmic membrane via a glycosyl phosphatidylinositol linkage.  These proteins may play a role in the control of cell division and growth regulation. [provided by RefSeq, Jul 2008].']}\n"
     ]
    }
   ],
   "source": [
    "print(query + str(sample))"
   ]
  },
  {
   "cell_type": "code",
   "execution_count": 9,
   "metadata": {},
   "outputs": [
    {
     "data": {
      "application/vnd.jupyter.widget-view+json": {
       "model_id": "d84ebb0a1d0342e798003920fd8376bc",
       "version_major": 2,
       "version_minor": 0
      },
      "text/plain": [
       "Downloading shards:   0%|          | 0/30 [00:00<?, ?it/s]"
      ]
     },
     "metadata": {},
     "output_type": "display_data"
    },
    {
     "data": {
      "application/vnd.jupyter.widget-view+json": {
       "model_id": "5b0bed9972ef49d98eb9351e915f679f",
       "version_major": 2,
       "version_minor": 0
      },
      "text/plain": [
       "Loading checkpoint shards:   0%|          | 0/30 [00:00<?, ?it/s]"
      ]
     },
     "metadata": {},
     "output_type": "display_data"
    },
    {
     "name": "stderr",
     "output_type": "stream",
     "text": [
      "Setting `pad_token_id` to `eos_token_id`:128001 for open-end generation.\n"
     ]
    },
    {
     "name": "stdout",
     "output_type": "stream",
     "text": [
      "{'role': 'assistant', 'content': \"To provide the most helpful response, I need to confirm a few details. \\n\\n1. You would like me to create question and answer pairs based on the given dictionary data.\\n2. I should use the keys as the basis for the questions and the corresponding values as the answers.\\n3. I should format multiple questions to resemble a user query when there are multiple values for a single key.\\n4. I should ignore any objects with ['N/A'] as their value, but since there are no ['N/A'] values in the given data, this will not be applicable.\\n5. You would like the pairs in the format: <question>question here</question><answer>answer here</answer>\\n\\nPlease confirm these details before I proceed.\\n\\nAlso, I would like to know if you would like me to make any adjustments to the answer for the 'Description' key, as it is a long piece of text. Would you like me to shorten it or keep it as is?\"}\n"
     ]
    }
   ],
   "source": [
    "#load in llama model\n",
    "from transformers import pipeline\n",
    "\n",
    "model_id = \"meta-llama/Llama-3.1-70B-Instruct\"\n",
    "\n",
    "pipe = pipeline(\n",
    "    \"text-generation\",\n",
    "    model=model_id,\n",
    "    torch_dtype=torch.bfloat16,\n",
    "    device_map=\"auto\",\n",
    ")\n",
    "messages = [\n",
    "    {\"role\": \"system\", \"content\": query},\n",
    "    {\"role\": \"user\", \"content\": str(sample)},\n",
    "]\n",
    "outputs = pipe(\n",
    "    messages,\n",
    "    max_new_tokens=256,\n",
    ")\n",
    "print(outputs[0][\"generated_text\"][-1])"
   ]
  },
  {
   "cell_type": "code",
   "execution_count": null,
   "metadata": {},
   "outputs": [],
   "source": []
  }
 ],
 "metadata": {
  "kernelspec": {
   "display_name": "evaluation",
   "language": "python",
   "name": "python3"
  },
  "language_info": {
   "codemirror_mode": {
    "name": "ipython",
    "version": 3
   },
   "file_extension": ".py",
   "mimetype": "text/x-python",
   "name": "python",
   "nbconvert_exporter": "python",
   "pygments_lexer": "ipython3",
   "version": "3.12.2"
  }
 },
 "nbformat": 4,
 "nbformat_minor": 2
}
