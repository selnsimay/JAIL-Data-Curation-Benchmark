{
 "cells": [
  {
   "cell_type": "markdown",
   "metadata": {},
   "source": [
    "## Reactions Dataset\n",
    "### Date: February 19, 2025\n",
    "### Author: Selin Kaplanoglu\n",
    "\n",
    "**Goal:** We want to use Neo4j and query gene-gene interactions to get information on them"
   ]
  },
  {
   "cell_type": "code",
   "execution_count": 1,
   "metadata": {},
   "outputs": [],
   "source": [
    "#imports\n",
    "from neo4j import GraphDatabase\n",
    "from itertools import combinations\n",
    "import random\n",
    "import logging\n",
    "import time\n",
    "import json\n",
    "import requests\n",
    "import os\n",
    "from dotenv import load_dotenv"
   ]
  },
  {
   "cell_type": "code",
   "execution_count": 2,
   "metadata": {},
   "outputs": [],
   "source": [
    "#seeting up neo4j connection and inititializing the driver\n",
    "load_dotenv()\n",
    "uri = os.getenv(\"URI\")  \n",
    "username = os.getenv(\"USERNAME\")          \n",
    "password = os.getenv(\"PASSWORD\")  \n",
    "\n",
    "driver = GraphDatabase.driver(uri, auth=(username, password))\n"
   ]
  },
  {
   "cell_type": "code",
   "execution_count": 4,
   "metadata": {},
   "outputs": [
    {
     "name": "stdout",
     "output_type": "stream",
     "text": [
      "Executing Neo4j query...\n",
      "\n",
      "Raw Neo4j Query Output:\n"
     ]
    }
   ],
   "source": [
    "print(\"Executing Neo4j query...\")\n",
    "\n",
    "gene_query = \"\"\"\n",
    "MATCH (n)-[:referenceDatabase]->(rd:ReferenceDatabase) \n",
    "WHERE toLower(rd.displayName) = toLower(\"ENSEMBL\")\n",
    "WITH DISTINCT n  \n",
    "MATCH (pe:PhysicalEntity)-[:referenceEntity|referenceSequence|crossReference|referenceGene*]->(n)\n",
    "WITH DISTINCT pe \n",
    "MATCH (:Species{taxId:\"9606\"})<-[:species]-(p:Pathway)-[:hasEvent]->(rle) \n",
    "MATCH (rle:ReactionLikeEvent)\n",
    "    OPTIONAL MATCH (rle)-[:input]->(input:PhysicalEntity)\n",
    "    OPTIONAL MATCH (rle)-[:output]->(output:PhysicalEntity)\n",
    "    OPTIONAL MATCH (rle)-[:catalystActivity]->(catalyst:CatalystActivity)\n",
    "    OPTIONAL MATCH (rle)-[:physicalEntity]->(physicalEntity:PhysicalEntity)\n",
    "    OPTIONAL MATCH (rle)-[:entityFunctionalStatus]->(entityFunctionalStatus:EntityFunctionalStatus)\n",
    "    OPTIONAL MATCH (rle)-[:diseaseEntity]->(diseaseEntity:Disease)\n",
    "    OPTIONAL MATCH (rle)-[:regulatedBy|regulator]->(regulator:Regulation)\n",
    "    OPTIONAL MATCH (rle)-[:hasComponent|hasMember|hasCandidate|repeatedUnit]->(pe)\n",
    "WITH DISTINCT p, pe, rle, input, output, catalyst, physicalEntity, entityFunctionalStatus, diseaseEntity, regulator\n",
    "RETURN pe.displayName AS gene_name,\n",
    "       p.displayName AS pathway_name, \n",
    "       collect(DISTINCT rle.displayName) AS reactions,\n",
    "       collect(DISTINCT input.displayName) AS inputs, \n",
    "       collect(DISTINCT output.displayName) AS outputs, \n",
    "       collect(DISTINCT catalyst.displayName) AS catalysts,\n",
    "       collect(DISTINCT physicalEntity.displayName) AS physical_entities,\n",
    "       collect(DISTINCT entityFunctionalStatus.displayName) AS entity_functional_status,\n",
    "       collect(DISTINCT diseaseEntity.displayName) AS diseases,\n",
    "       collect(DISTINCT regulator.displayName) AS regulators\n",
    "ORDER BY gene_name, pathway_name\n",
    "\"\"\"\n",
    "\n",
    "genes_results_dict = {}\n",
    "\n",
    "with driver.session() as session:\n",
    "    try:\n",
    "        # Run the query\n",
    "        genes_results = session.run(gene_query)\n",
    "\n",
    "        # Debug: Print raw data from Neo4j\n",
    "        print(\"\\nRaw Neo4j Query Output:\")\n",
    "        for record in genes_results:\n",
    "            print(record)  # See raw data for debugging\n",
    "            \n",
    "            gene_name = record.get(\"gene_name\", \"Unknown\")\n",
    "\n",
    "            pathway_data = {\n",
    "                \"pathway_name\": record.get(\"pathway_name\", \"Unknown\"),\n",
    "                \"reactions\": record.get(\"reactions\", []),\n",
    "                \"inputs\": record.get(\"inputs\", []),\n",
    "                \"outputs\": record.get(\"outputs\", []),\n",
    "                \"catalysts\": record.get(\"catalysts\", []),\n",
    "                \"physical_entities\": record.get(\"physical_entities\", []),\n",
    "                \"entity_functional_status\": record.get(\"entity_functional_status\", []),\n",
    "                \"diseases\": record.get(\"diseases\", []),\n",
    "                \"regulators\": record.get(\"regulators\", [])\n",
    "            }\n",
    "\n",
    "            if gene_name in genes_results_dict:\n",
    "                genes_results_dict[gene_name][\"pathways\"].append(pathway_data)\n",
    "            else:\n",
    "                genes_results_dict[gene_name] = {\n",
    "                    \"gene_name\": gene_name,\n",
    "                    \"pathways\": [pathway_data]\n",
    "                }\n",
    "\n",
    "    except Exception as e:\n",
    "        print(f\"Error executing query: {e}\")  # Print error message\n",
    "\n",
    "# Convert dictionary to list for JSON output\n",
    "genes_results_list = list(genes_results_dict.values())\n",
    "\n",
    "# Debug: Check final JSON before saving\n",
    "print(\"\\nFinal JSON Output:\")\n",
    "print(json.dumps(genes_results_list, indent=4))\n",
    "\n",
    "# Save results to JSON\n",
    "with open('genes_output3.json', 'w') as outfile:\n",
    "    json.dump(genes_results_list, outfile, indent=4)\n",
    "\n",
    "print(\"JSON file saved successfully: genes_output3.json\")"
   ]
  },
  {
   "cell_type": "code",
   "execution_count": null,
   "metadata": {},
   "outputs": [],
   "source": [
    "# Retrieve all the interacttions that exist within the graph database.\n",
    "interaction_query = \"\"\"\n",
    "MATCH (n:Interaction)-[:interactor]->(p) \n",
    "RETURN \n",
    "    n.displayName AS interaction , n.score AS confidence_score,\n",
    "    collect(DISTINCT{name:p.displayName, function: p.comment}) AS gene_information\n",
    "\"\"\"\n",
    "interactions_results_list = []\n",
    "with driver.session() as session:\n",
    "    results = session.run(interaction_query)\n",
    "    for record in results:\n",
    "        interactions_results_list.append({\n",
    "            \"interaction\": record[\"interaction\"],\n",
    "            \"confidence_score\": record[\"confidence_score\"],\n",
    "            \"gene_information\": record[\"gene_information\"]\n",
    "        })\n",
    "    \n",
    "driver.close()\n",
    "\n",
    "with open('interactions_output.json', 'w') as outfile:\n",
    "    json.dump(interactions_results_list, outfile, indent=4)\n",
    "\n",
    "print(\"Data successfully written to interactions_output.json\")"
   ]
  }
 ],
 "metadata": {
  "kernelspec": {
   "display_name": "deepeval",
   "language": "python",
   "name": "python3"
  },
  "language_info": {
   "codemirror_mode": {
    "name": "ipython",
    "version": 3
   },
   "file_extension": ".py",
   "mimetype": "text/x-python",
   "name": "python",
   "nbconvert_exporter": "python",
   "pygments_lexer": "ipython3",
   "version": "3.12.2"
  }
 },
 "nbformat": 4,
 "nbformat_minor": 2
}
